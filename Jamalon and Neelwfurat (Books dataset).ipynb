{
 "cells": [
  {
   "cell_type": "markdown",
   "metadata": {},
   "source": [
    "# DataSets : Jamalon and Neelwfurat ( best selling books of 2019 and 2018)"
   ]
  },
  {
   "cell_type": "code",
   "execution_count": 2016,
   "metadata": {},
   "outputs": [],
   "source": [
    "import re\n",
    "import requests\n",
    "import pandas as pd\n",
    "from urllib.request import urlopen\n",
    "from bs4 import BeautifulSoup\n",
    "import matplotlib.pyplot as plt\n",
    "import seaborn as sns\n",
    "import numpy as np"
   ]
  },
  {
   "cell_type": "code",
   "execution_count": null,
   "metadata": {},
   "outputs": [],
   "source": [
    "#Two datsets from two different sites.(Actually 4 dataset)\n",
    "#Each one contains best sellers in 2019 and 2018\n",
    "##JAMALON and NEELWFURAT one of the Biggest Online Arabic Bookstore"
   ]
  },
  {
   "cell_type": "code",
   "execution_count": 1921,
   "metadata": {},
   "outputs": [],
   "source": [
    "#Bookstore1\n",
    "#best sellers in 2019\n",
    "\n",
    "pages = []\n",
    "BookName19 = []\n",
    "for i in range(0, 20):\n",
    "    url = 'https://jamalon.com/ar/best-seller-books-2019?p=' + str(i) \n",
    "    pages.append(url)\n",
    "\n",
    "for item in pages:\n",
    "    page = requests.get(item)\n",
    "    soup = BeautifulSoup(page.text,'lxml')\n",
    "    name = soup.find_all('div', attrs={'class':'book-info text-center'})\n",
    "    for i in name:\n",
    "        BookName19.append(i.find('h4').text)\n"
   ]
  },
  {
   "cell_type": "code",
   "execution_count": 1922,
   "metadata": {},
   "outputs": [],
   "source": [
    "\n",
    "pages = []\n",
    "BookPrice19 = []\n",
    "for i in range(0, 20):\n",
    "    url = 'https://jamalon.com/ar/best-seller-books-2019?p=' + str(i) \n",
    "    pages.append(url)\n",
    "\n",
    "for item in pages:\n",
    "    page = requests.get(item)\n",
    "    soup = BeautifulSoup(page.text,'lxml')\n",
    "    price = soup.find_all('div', attrs={'class':'new-price'})\n",
    "    for section in price:\n",
    "        BookPrice19.append(section.find('span').text)"
   ]
  },
  {
   "cell_type": "code",
   "execution_count": 1924,
   "metadata": {},
   "outputs": [],
   "source": [
    "#Bookstore1\n",
    "#best sellers in 2018\n",
    "respone = requests.get('https://jamalon.com/ar/top-100-selling-books-for-2017')\n",
    "htmlR = respone.text\n",
    "soupR = BeautifulSoup(htmlR,'lxml')"
   ]
  },
  {
   "cell_type": "code",
   "execution_count": 1925,
   "metadata": {},
   "outputs": [],
   "source": [
    "BookName18 = []\n",
    "price = soupR.find_all('div',attrs={'class':'book-info text-center'})\n",
    "for section in price:\n",
    "    BookName18.append(section.find('h4').text)"
   ]
  },
  {
   "cell_type": "code",
   "execution_count": 1926,
   "metadata": {},
   "outputs": [],
   "source": [
    "BookPrice18 = []\n",
    "price = soupR.find_all('div', attrs={'class':'new-price'})\n",
    "for section in price:\n",
    "    BookPrice18.append(section.find('span').text)"
   ]
  },
  {
   "cell_type": "code",
   "execution_count": 1936,
   "metadata": {},
   "outputs": [],
   "source": [
    "b19 = pd.DataFrame({'BookName2019': BookName19, 'BookPrice2019':BookPrice19 })\n",
    "\n",
    "b19['BookPrice2019'] = (b19['BookPrice2019'].replace('SR','', regex = True))\n",
    "b19['BookPrice2019']=b19.BookPrice2019.astype('float')"
   ]
  },
  {
   "cell_type": "code",
   "execution_count": 1937,
   "metadata": {},
   "outputs": [],
   "source": [
    "b18 = pd.DataFrame({'BookName2018': BookName18, 'BookPrice2018':BookPrice18 })\n",
    "\n",
    "b18['BookPrice2018'] = (b18['BookPrice2018'].replace('SR','', regex = True))\n",
    "b18['BookPrice2018']=b18.BookPrice2018.astype('float')"
   ]
  },
  {
   "cell_type": "code",
   "execution_count": 1942,
   "metadata": {},
   "outputs": [],
   "source": [
    "book1 = pd.concat([b19, b18], axis=1, sort=False)"
   ]
  },
  {
   "cell_type": "code",
   "execution_count": 1943,
   "metadata": {},
   "outputs": [
    {
     "name": "stdout",
     "output_type": "stream",
     "text": [
      "<class 'pandas.core.frame.DataFrame'>\n",
      "RangeIndex: 400 entries, 0 to 399\n",
      "Data columns (total 4 columns):\n",
      "BookName2019     400 non-null object\n",
      "BookPrice2019    400 non-null float64\n",
      "BookName2018     99 non-null object\n",
      "BookPrice2018    99 non-null float64\n",
      "dtypes: float64(2), object(2)\n",
      "memory usage: 12.6+ KB\n"
     ]
    }
   ],
   "source": [
    "book1.info()"
   ]
  },
  {
   "cell_type": "code",
   "execution_count": 1945,
   "metadata": {},
   "outputs": [
    {
     "data": {
      "text/html": [
       "<div>\n",
       "<style scoped>\n",
       "    .dataframe tbody tr th:only-of-type {\n",
       "        vertical-align: middle;\n",
       "    }\n",
       "\n",
       "    .dataframe tbody tr th {\n",
       "        vertical-align: top;\n",
       "    }\n",
       "\n",
       "    .dataframe thead th {\n",
       "        text-align: right;\n",
       "    }\n",
       "</style>\n",
       "<table border=\"1\" class=\"dataframe\">\n",
       "  <thead>\n",
       "    <tr style=\"text-align: right;\">\n",
       "      <th></th>\n",
       "      <th>BookName2019</th>\n",
       "      <th>BookPrice2019</th>\n",
       "      <th>BookName2018</th>\n",
       "      <th>BookPrice2018</th>\n",
       "    </tr>\n",
       "  </thead>\n",
       "  <tbody>\n",
       "    <tr>\n",
       "      <td>0</td>\n",
       "      <td>Shusmo شسمو</td>\n",
       "      <td>56.25</td>\n",
       "      <td>القوقعة : يوميات متلصص</td>\n",
       "      <td>41.25</td>\n",
       "    </tr>\n",
       "    <tr>\n",
       "      <td>1</td>\n",
       "      <td>القوقعة : يوميات متلصص</td>\n",
       "      <td>41.25</td>\n",
       "      <td>أولاد حارتنا</td>\n",
       "      <td>73.50</td>\n",
       "    </tr>\n",
       "    <tr>\n",
       "      <td>2</td>\n",
       "      <td>قوة عقلك الباطن</td>\n",
       "      <td>52.50</td>\n",
       "      <td>الرجال من المريخ النساء من الزهرة</td>\n",
       "      <td>48.00</td>\n",
       "    </tr>\n",
       "    <tr>\n",
       "      <td>3</td>\n",
       "      <td>مع النبي صلى الله عليه وسلم</td>\n",
       "      <td>45.00</td>\n",
       "      <td>الإسلام بين الشرق والغرب</td>\n",
       "      <td>71.25</td>\n",
       "    </tr>\n",
       "    <tr>\n",
       "      <td>4</td>\n",
       "      <td>سلسلة أغنية الجليد والنار : لعبة العروش, صدام ...</td>\n",
       "      <td>56.18</td>\n",
       "      <td>حيونة الإنسان</td>\n",
       "      <td>37.50</td>\n",
       "    </tr>\n",
       "  </tbody>\n",
       "</table>\n",
       "</div>"
      ],
      "text/plain": [
       "                                        BookName2019  BookPrice2019  \\\n",
       "0                                        Shusmo شسمو          56.25   \n",
       "1                             القوقعة : يوميات متلصص          41.25   \n",
       "2                                    قوة عقلك الباطن          52.50   \n",
       "3                        مع النبي صلى الله عليه وسلم          45.00   \n",
       "4  سلسلة أغنية الجليد والنار : لعبة العروش, صدام ...          56.18   \n",
       "\n",
       "                        BookName2018  BookPrice2018  \n",
       "0             القوقعة : يوميات متلصص          41.25  \n",
       "1                       أولاد حارتنا          73.50  \n",
       "2  الرجال من المريخ النساء من الزهرة          48.00  \n",
       "3           الإسلام بين الشرق والغرب          71.25  \n",
       "4                      حيونة الإنسان          37.50  "
      ]
     },
     "execution_count": 1945,
     "metadata": {},
     "output_type": "execute_result"
    }
   ],
   "source": [
    "#Bookstore 1 dataset(best seller 2018 & 2019)\n",
    "book1.head()"
   ]
  },
  {
   "cell_type": "code",
   "execution_count": 1946,
   "metadata": {},
   "outputs": [],
   "source": [
    "sbook1.to_csv (r'C:\\Users\\ASUS\\Desktop\\DSI\\week8\\day3\\book1.csv', index = False, header=True)"
   ]
  },
  {
   "cell_type": "code",
   "execution_count": 1947,
   "metadata": {},
   "outputs": [],
   "source": [
    "def getHTMLContent(link):\n",
    "    html = urlopen(link)\n",
    "    soup = BeautifulSoup(html, 'html.parser')\n",
    "    return soup"
   ]
  },
  {
   "cell_type": "code",
   "execution_count": 1948,
   "metadata": {},
   "outputs": [],
   "source": [
    "#site1\n",
    "#best sellers in 2019\n",
    "content = getHTMLContent('https://www.neelwafurat.com/BBestSellers.aspx?search=books')\n",
    "bookname19_2 = content.find_all('a',attrs={'style':'font-size: 12pt; color:#58595b;font-weight:bold;'})\n",
    "\n",
    "del bookname19_2[:48]\n",
    "del bookname19_2[100:]"
   ]
  },
  {
   "cell_type": "code",
   "execution_count": 1949,
   "metadata": {},
   "outputs": [],
   "source": [
    "content = getHTMLContent('https://www.neelwafurat.com/BBestSellers.aspx?search=books')\n",
    "bookprice19_2 = content.find_all('font',attrs={'style':'font-family: Tahoma; color: red;'})\n",
    "\n",
    "del bookprice19_2[:48]\n",
    "del bookprice19_2[100:]"
   ]
  },
  {
   "cell_type": "code",
   "execution_count": 1950,
   "metadata": {},
   "outputs": [],
   "source": [
    "#best sellers in 2018\n",
    "content = getHTMLContent('https://www.neelwafurat.com/BBestSellers.aspx?search=books&year=2018')\n",
    "bookname18_2 = content.find_all('a',attrs={'style':'font-size: 12pt; color:#58595b;font-weight:bold;'})\n",
    "\n",
    "del bookname18_2[:48]\n",
    "del bookname18_2[100:]"
   ]
  },
  {
   "cell_type": "code",
   "execution_count": 1951,
   "metadata": {},
   "outputs": [],
   "source": [
    "content = getHTMLContent('https://www.neelwafurat.com/BBestSellers.aspx?search=books&year=2018')\n",
    "bookprice18_2 = content.find_all('font',attrs={'style':'font-family: Tahoma; color: red;'})\n",
    "\n",
    "del bookprice18_2[:48]\n",
    "del bookprice18_2[100:]"
   ]
  },
  {
   "cell_type": "code",
   "execution_count": 1959,
   "metadata": {},
   "outputs": [],
   "source": [
    "book2 = pd.DataFrame({'bookname2019_2': bookname19_2,'bookprice2019_2': bookprice19_2 , 'bookname2018_2': bookname18_2,'bookprice2018_2': bookprice18_2})\n",
    "\n",
    "book2['bookname2019_2'] = book2['bookname2019_2'].map(lambda x: str(x)[145:])\n",
    "book2['bookname2019_2'] = book2['bookname2019_2'].map(lambda x: str(x)[0:-4])\n",
    "book2['bookprice2019_2'] = book2['bookprice2019_2'].map(lambda x: str(x)[50:66])\n",
    "book2['bookprice2019_2'] = book2['bookprice2019_2'].map(lambda x: str(x)[0:-11])\n",
    "\n",
    "book2['bookname2018_2'] = book2['bookname2018_2'].map(lambda x: str(x)[145:])\n",
    "book2['bookname2018_2'] = book2['bookname2018_2'].map(lambda x: str(x)[0:-4])\n",
    "book2['bookprice2018_2'] = book2['bookprice2018_2'].map(lambda x: str(x)[50:66])\n",
    "book2['bookprice2018_2'] = book2['bookprice2018_2'].map(lambda x: str(x)[0:-11])\n",
    "\n",
    "book2['bookname2019_2'] = (book2['bookname2019_2'].replace('[<,>]','', regex = True))\n",
    "book2['bookname2018_2'] = (book2['bookname2018_2'].replace('[<,>]','', regex = True))\n",
    "book2['bookprice2019_2'] = (book2['bookprice2019_2'].replace('[SA,S]','', regex = True))\n",
    "book2['bookprice2018_2'] = (book2['bookprice2018_2'].replace('[SA,S]','', regex = True))\n",
    "book2['bookprice2019_2']=book2.bookprice2019_2.astype('float')\n",
    "book2['bookprice2018_2']=book2.bookprice2018_2.astype('float')"
   ]
  },
  {
   "cell_type": "code",
   "execution_count": 1960,
   "metadata": {},
   "outputs": [
    {
     "data": {
      "text/html": [
       "<div>\n",
       "<style scoped>\n",
       "    .dataframe tbody tr th:only-of-type {\n",
       "        vertical-align: middle;\n",
       "    }\n",
       "\n",
       "    .dataframe tbody tr th {\n",
       "        vertical-align: top;\n",
       "    }\n",
       "\n",
       "    .dataframe thead th {\n",
       "        text-align: right;\n",
       "    }\n",
       "</style>\n",
       "<table border=\"1\" class=\"dataframe\">\n",
       "  <thead>\n",
       "    <tr style=\"text-align: right;\">\n",
       "      <th></th>\n",
       "      <th>bookname2019_2</th>\n",
       "      <th>bookprice2019_2</th>\n",
       "      <th>bookname2018_2</th>\n",
       "      <th>bookprice2018_2</th>\n",
       "    </tr>\n",
       "  </thead>\n",
       "  <tbody>\n",
       "    <tr>\n",
       "      <td>0</td>\n",
       "      <td>أربعون 40</td>\n",
       "      <td>51.00</td>\n",
       "      <td>الطفل في الأسرة</td>\n",
       "      <td>26.25</td>\n",
       "    </tr>\n",
       "    <tr>\n",
       "      <td>1</td>\n",
       "      <td>ناقة صالحة</td>\n",
       "      <td>37.50</td>\n",
       "      <td>الطهارة</td>\n",
       "      <td>18.45</td>\n",
       "    </tr>\n",
       "    <tr>\n",
       "      <td>2</td>\n",
       "      <td>سيدات القمر</td>\n",
       "      <td>32.06</td>\n",
       "      <td>المغالطات المنطقية \"فصول في المنطق غير الصوري\"</td>\n",
       "      <td>46.88</td>\n",
       "    </tr>\n",
       "    <tr>\n",
       "      <td>3</td>\n",
       "      <td>الإنسان يبحث عن المعني \"مقدمة في العلاج بالمعن...</td>\n",
       "      <td>26.25</td>\n",
       "      <td>الكتاب والقرآن - رؤية جديدة</td>\n",
       "      <td>54.00</td>\n",
       "    </tr>\n",
       "    <tr>\n",
       "      <td>4</td>\n",
       "      <td>إن مع الصبر نصراً</td>\n",
       "      <td>44.63</td>\n",
       "      <td>يونة الإنسان</td>\n",
       "      <td>35.63</td>\n",
       "    </tr>\n",
       "  </tbody>\n",
       "</table>\n",
       "</div>"
      ],
      "text/plain": [
       "                                      bookname2019_2  bookprice2019_2  \\\n",
       "0                                          أربعون 40            51.00   \n",
       "1                                         ناقة صالحة            37.50   \n",
       "2                                        سيدات القمر            32.06   \n",
       "3  الإنسان يبحث عن المعني \"مقدمة في العلاج بالمعن...            26.25   \n",
       "4                                  إن مع الصبر نصراً            44.63   \n",
       "\n",
       "                                   bookname2018_2  bookprice2018_2  \n",
       "0                                 الطفل في الأسرة            26.25  \n",
       "1                                         الطهارة            18.45  \n",
       "2  المغالطات المنطقية \"فصول في المنطق غير الصوري\"            46.88  \n",
       "3                     الكتاب والقرآن - رؤية جديدة            54.00  \n",
       "4                                    يونة الإنسان            35.63  "
      ]
     },
     "execution_count": 1960,
     "metadata": {},
     "output_type": "execute_result"
    }
   ],
   "source": [
    "#Bookstore2 dataset(best seller 2018 & 2019)\n",
    "book2.head()"
   ]
  },
  {
   "cell_type": "code",
   "execution_count": 1961,
   "metadata": {},
   "outputs": [],
   "source": [
    "book2.to_csv (r'C:\\Users\\ASUS\\Desktop\\DSI\\week8\\day3\\book2.csv', index = False, header=True)"
   ]
  },
  {
   "cell_type": "code",
   "execution_count": 2033,
   "metadata": {},
   "outputs": [
    {
     "data": {
      "text/plain": [
       "<matplotlib.axes._subplots.AxesSubplot at 0x3216ce48>"
      ]
     },
     "execution_count": 2033,
     "metadata": {},
     "output_type": "execute_result"
    },
    {
     "data": {
      "image/png": "[encoded data removed]",
      "text/plain": [
       "<Figure size 720x360 with 2 Axes>"
      ]
     },
     "metadata": {
      "needs_background": "light"
     },
     "output_type": "display_data"
    }
   ],
   "source": [
    "#Bookstore2 book price\n",
    "fig,ax = plt.subplots(2,figsize=(10,5))\n",
    "sns.distplot(book1[\"BookPrice2019\"],ax=ax[0])\n",
    "sns.distplot(np.log1p(b19['BookPrice2019']),ax=ax[1])"
   ]
  },
  {
   "cell_type": "code",
   "execution_count": 2024,
   "metadata": {},
   "outputs": [
    {
     "data": {
      "text/plain": [
       "<matplotlib.axes._subplots.AxesSubplot at 0x2608e388>"
      ]
     },
     "execution_count": 2024,
     "metadata": {},
     "output_type": "execute_result"
    },
    {
     "data": {
      "image/png": "[encoded data removed]",
      "text/plain": [
       "<Figure size 720x360 with 2 Axes>"
      ]
     },
     "metadata": {
      "needs_background": "light"
     },
     "output_type": "display_data"
    }
   ],
   "source": [
    "#Bookstore2 book price\n",
    "fig,ax = plt.subplots(2,figsize=(10,5))\n",
    "sns.distplot(book2[\"bookprice2018_2\"],ax=ax[0])\n",
    "sns.distplot(np.log1p(book2[\"bookprice2019_2\"]),ax=ax[1])"
   ]
  },
  {
   "cell_type": "code",
   "execution_count": 2037,
   "metadata": {},
   "outputs": [
    {
     "data": {
      "text/plain": [
       "[<matplotlib.lines.Line2D at 0xfff4608>]"
      ]
     },
     "execution_count": 2037,
     "metadata": {},
     "output_type": "execute_result"
    },
    {
     "data": {
      "image/png": "[encoded data removed]",
      "text/plain": [
       "<Figure size 432x288 with 1 Axes>"
      ]
     },
     "metadata": {
      "needs_background": "light"
     },
     "output_type": "display_data"
    }
   ],
   "source": [
    "plt.plot (book2[\"bookprice2018_2\"])\n",
    "plt.plot (b19['BookPrice2019'])"
   ]
  }
 ],
 "metadata": {
  "kernelspec": {
   "display_name": "Python 3",
   "language": "python",
   "name": "python3"
  },
  "language_info": {
   "codemirror_mode": {
    "name": "ipython",
    "version": 3
   },
   "file_extension": ".py",
   "mimetype": "text/x-python",
   "name": "python",
   "nbconvert_exporter": "python",
   "pygments_lexer": "ipython3",
   "version": "3.7.4"
  }
 },
 "nbformat": 4,
 "nbformat_minor": 2
}
